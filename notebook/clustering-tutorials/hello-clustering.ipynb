{
 "cells": [
  {
   "cell_type": "code",
   "execution_count": 16,
   "metadata": {},
   "outputs": [],
   "source": [
    "import os\n",
    "from pathlib import Path\n",
    "from typing import List, Dict\n",
    "\n",
    "import pandas as pd\n",
    "import simplejson as json\n",
    "import numpy as np\n",
    "from itertools import chain\n",
    "\n",
    "import polars as pl\n",
    "import torch\n",
    "\n",
    "from justatom.configuring.prime import Config\n",
    "from justatom.running.cluster import IBTRunner, IHFWrapperBackend\n",
    "from justatom.modeling.prime import HFDocEmbedder\n",
    "from justatom.clustering.prime import IUMAPDimReducer\n",
    "from justatom.viewing.prime import IPlotlyChart\n",
    "\n",
    "import altair as alt"
   ]
  },
  {
   "cell_type": "code",
   "execution_count": 2,
   "metadata": {},
   "outputs": [],
   "source": [
    "def ignite_dataset(where, mask:str = None) -> List[Dict]:\n",
    "    docs = None\n",
    "    with open(str(Path(where)), encoding=\"utf-8\") as fin:\n",
    "        docs = json.load(fin)\n",
    "    if mask:\n",
    "        return docs[mask]\n",
    "    return docs"
   ]
  },
  {
   "cell_type": "code",
   "execution_count": 3,
   "metadata": {},
   "outputs": [],
   "source": [
    "docs = ignite_dataset(where=Path(os.getcwd()) / \".data\" / \"polaroids.ai.data.json\")"
   ]
  },
  {
   "cell_type": "code",
   "execution_count": 4,
   "metadata": {},
   "outputs": [],
   "source": [
    "documents = [di['content'] for di in docs]\n",
    "labels = [di[\"title\"] for di in docs]"
   ]
  },
  {
   "cell_type": "code",
   "execution_count": 17,
   "metadata": {},
   "outputs": [],
   "source": [
    "device = \"cuda:0\" if torch.cuda.is_available() else \"cpu\""
   ]
  },
  {
   "cell_type": "code",
   "execution_count": 5,
   "metadata": {},
   "outputs": [],
   "source": [
    "embedder = HFDocEmbedder(**Config.clustering.embedder.toDict(), device=device)\n",
    "backend_wrapper = IHFWrapperBackend(embedder, **Config.clustering.transformers_backend.toDict())"
   ]
  },
  {
   "cell_type": "code",
   "execution_count": 6,
   "metadata": {},
   "outputs": [],
   "source": [
    "bt_runner = IBTRunner(**Config.clustering.bertopic, model=backend_wrapper, verbose=True)"
   ]
  },
  {
   "cell_type": "code",
   "execution_count": 7,
   "metadata": {},
   "outputs": [
    {
     "name": "stderr",
     "output_type": "stream",
     "text": [
      "100%|██████████| 392/392 [00:15<00:00, 24.60it/s]\n",
      "2024-06-27 06:49:42,457 - BERTopic - Embedding - Transforming documents to embeddings.\n",
      "100%|██████████| 157/157 [00:16<00:00,  9.34it/s]\n",
      "2024-06-27 06:49:59,273 - BERTopic - Embedding - Completed ✓\n",
      "2024-06-27 06:49:59,273 - BERTopic - Dimensionality - Fitting the dimensionality reduction algorithm\n",
      "2024-06-27 06:50:05,360 - BERTopic - Dimensionality - Completed ✓\n",
      "2024-06-27 06:50:05,361 - BERTopic - Cluster - Start clustering the reduced embeddings\n",
      "2024-06-27 06:50:05,595 - BERTopic - Cluster - Completed ✓\n",
      "2024-06-27 06:50:05,600 - BERTopic - Representation - Extracting topics from clusters using representation models.\n",
      "2024-06-27 06:50:05,722 - BERTopic - Representation - Completed ✓\n"
     ]
    }
   ],
   "source": [
    "embeddings = list(chain.from_iterable(embedder.encode(documents, verbose=True, batch_size=4)))\n",
    "topics, probs = bt_runner.fit_transform(docs=documents)"
   ]
  },
  {
   "cell_type": "code",
   "execution_count": 8,
   "metadata": {},
   "outputs": [],
   "source": [
    "reducer = IUMAPDimReducer(**Config.clustering.umap.toDict())\n",
    "points = reducer.fit_transform(embeddings)"
   ]
  },
  {
   "cell_type": "code",
   "execution_count": 9,
   "metadata": {},
   "outputs": [],
   "source": [
    "def prepare2d(docs, topics, labels, reduced_embeddings):\n",
    "    assert reduced_embeddings.shape[1] == 2, f\"Embeddings shape mismatch Exptected 2D, got {embeddings.shape[1]}D\"\n",
    "    COLS_MAPPING=dict(\n",
    "        column_0=\"text\",\n",
    "        column_1=\"topic\",\n",
    "        column_2=\"label\",\n",
    "        column_3=\"x\",\n",
    "        column_4=\"y\"\n",
    "    )\n",
    "    pl_view = pl.from_dicts(zip(docs, topics, labels, reduced_embeddings[:, 0], reduced_embeddings[:, 1]))\n",
    "    pl_view = pl_view.rename(COLS_MAPPING)\n",
    "    return pl_view"
   ]
  },
  {
   "cell_type": "code",
   "execution_count": 10,
   "metadata": {},
   "outputs": [],
   "source": [
    "pl_view = prepare2d(docs=documents, topics=topics, labels=labels, reduced_embeddings=points)"
   ]
  },
  {
   "cell_type": "code",
   "execution_count": 11,
   "metadata": {},
   "outputs": [],
   "source": [
    "chart = alt.Chart(pl_view).mark_circle().encode(\n",
    "    x='x',\n",
    "    y='y',\n",
    "    color='label'\n",
    ")"
   ]
  },
  {
   "cell_type": "code",
   "execution_count": 12,
   "metadata": {},
   "outputs": [],
   "source": [
    "chart.save(f\"polaroids.ai.clustering.e5-base.png\", ppi=200)"
   ]
  },
  {
   "cell_type": "code",
   "execution_count": 14,
   "metadata": {},
   "outputs": [],
   "source": [
    "chart.save(f\"polaroids.ai.clustering.e5-base.html\")"
   ]
  },
  {
   "cell_type": "code",
   "execution_count": null,
   "metadata": {},
   "outputs": [],
   "source": []
  }
 ],
 "metadata": {
  "kernelspec": {
   "display_name": "polaroids",
   "language": "python",
   "name": "python3"
  },
  "language_info": {
   "codemirror_mode": {
    "name": "ipython",
    "version": 3
   },
   "file_extension": ".py",
   "mimetype": "text/x-python",
   "name": "python",
   "nbconvert_exporter": "python",
   "pygments_lexer": "ipython3",
   "version": "3.11.9"
  }
 },
 "nbformat": 4,
 "nbformat_minor": 2
}
