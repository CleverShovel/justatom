{
 "cells": [
  {
   "cell_type": "code",
   "execution_count": null,
   "metadata": {},
   "outputs": [],
   "source": [
    "import os\n",
    "from itertools import chain\n",
    "from pathlib import Path\n",
    "\n",
    "import polars as pl\n",
    "import simplejson as json\n",
    "import torch\n",
    "from loguru import logger\n",
    "\n",
    "from justatom.clustering.prime import IUMAPDimReducer\n",
    "from justatom.configuring.prime import Config\n",
    "from justatom.modeling.mask import ILanguageModel\n",
    "from justatom.modeling.prime import DocEmbedder\n",
    "from justatom.running.cluster import IBTRunner, IHFWrapperBackend\n",
    "from justatom.viewing.prime import PlotlyScatterChart"
   ]
  },
  {
   "cell_type": "code",
   "execution_count": null,
   "metadata": {},
   "outputs": [],
   "source": [
    "def ignite_dataset(where, mask: str = None) -> list[dict]:\n",
    "    docs = None\n",
    "    with open(str(Path(where)), encoding=\"utf-8\") as fin:\n",
    "        docs = json.load(fin)\n",
    "    if mask:\n",
    "        return docs[mask]\n",
    "    return docs"
   ]
  },
  {
   "cell_type": "code",
   "execution_count": null,
   "metadata": {},
   "outputs": [],
   "source": [
    "docs = ignite_dataset(where=Path(os.getcwd()) / \".data\" / \"polaroids.ai.data.json\")"
   ]
  },
  {
   "cell_type": "code",
   "execution_count": null,
   "metadata": {},
   "outputs": [],
   "source": [
    "documents = [di[\"content\"] for di in docs]\n",
    "labels = [di[\"title\"] for di in docs]"
   ]
  },
  {
   "cell_type": "code",
   "execution_count": null,
   "metadata": {},
   "outputs": [],
   "source": [
    "def maybe_cuda_or_mps():\n",
    "    if torch.cuda.is_available():\n",
    "        return \"cuda:0\"\n",
    "    elif torch.has_mps:\n",
    "        return \"mps\"\n",
    "    else:\n",
    "        return \"cpu\""
   ]
  },
  {
   "cell_type": "code",
   "execution_count": null,
   "metadata": {},
   "outputs": [],
   "source": [
    "device = maybe_cuda_or_mps()\n",
    "logger.info(f\"Using device {device}\")"
   ]
  },
  {
   "cell_type": "code",
   "execution_count": null,
   "metadata": {},
   "outputs": [],
   "source": [
    "# model_name_or_path = Path(os.getcwd()) / \"weights\" / \"polaroids.ai-bs=128-margin=0.4\"\n",
    "model_name_or_path = \"intfloat/multilingual-e5-base\""
   ]
  },
  {
   "cell_type": "code",
   "execution_count": null,
   "metadata": {},
   "outputs": [],
   "source": [
    "from justatom.processing import ITokenizer\n",
    "from justatom.processing.prime import TripletProcessor"
   ]
  },
  {
   "cell_type": "code",
   "execution_count": null,
   "metadata": {},
   "outputs": [],
   "source": [
    "tokenizer = ITokenizer.from_pretrained(\"intfloat/multilingual-e5-base\")\n",
    "processor = TripletProcessor(tokenizer=tokenizer, max_seq_len=512)"
   ]
  },
  {
   "cell_type": "code",
   "execution_count": null,
   "metadata": {},
   "outputs": [],
   "source": [
    "lm_model = ILanguageModel.load(model_name_or_path)"
   ]
  },
  {
   "cell_type": "code",
   "execution_count": null,
   "metadata": {},
   "outputs": [],
   "source": [
    "embedder = DocEmbedder(model=lm_model, processor=processor, device=device)\n",
    "backend_wrapper = IHFWrapperBackend(\n",
    "    embedder, **Config.clustering.transformers_backend.toDict()\n",
    ")"
   ]
  },
  {
   "cell_type": "code",
   "execution_count": null,
   "metadata": {},
   "outputs": [],
   "source": [
    "bt_runner = IBTRunner(**Config.clustering.bertopic, model=backend_wrapper, verbose=True)"
   ]
  },
  {
   "cell_type": "code",
   "execution_count": null,
   "metadata": {},
   "outputs": [],
   "source": [
    "embeddings = list(\n",
    "    chain.from_iterable(embedder.encode(documents, verbose=True, batch_size=4))\n",
    ")\n",
    "topics, probs = bt_runner.fit_transform(docs=documents)"
   ]
  },
  {
   "cell_type": "code",
   "execution_count": null,
   "metadata": {},
   "outputs": [],
   "source": [
    "reducer = IUMAPDimReducer(**Config.clustering.umap.toDict())\n",
    "points = reducer.fit_transform(embeddings)"
   ]
  },
  {
   "cell_type": "code",
   "execution_count": null,
   "metadata": {},
   "outputs": [],
   "source": [
    "def prepare2d(docs, topics, labels, reduced_embeddings):\n",
    "    assert (\n",
    "        reduced_embeddings.shape[1] == 2\n",
    "    ), f\"Embeddings shape mismatch Exptected 2D, got {embeddings.shape[1]}D\"\n",
    "    COLS_MAPPING = dict(\n",
    "        column_0=\"text\", column_1=\"topic\", column_2=\"label\", column_3=\"x\", column_4=\"y\"\n",
    "    )\n",
    "    pl_view = pl.from_dicts(\n",
    "        zip(\n",
    "            docs,\n",
    "            topics,\n",
    "            labels,\n",
    "            reduced_embeddings[:, 0],\n",
    "            reduced_embeddings[:, 1],\n",
    "            strict=False,\n",
    "        )\n",
    "    )\n",
    "    pl_view = pl_view.rename(COLS_MAPPING)\n",
    "    return pl_view"
   ]
  },
  {
   "cell_type": "code",
   "execution_count": null,
   "metadata": {},
   "outputs": [],
   "source": [
    "pl_view = prepare2d(\n",
    "    docs=documents, topics=topics, labels=labels, reduced_embeddings=points\n",
    ")"
   ]
  },
  {
   "cell_type": "code",
   "execution_count": null,
   "metadata": {},
   "outputs": [],
   "source": []
  },
  {
   "cell_type": "code",
   "execution_count": null,
   "metadata": {},
   "outputs": [],
   "source": [
    "chart = PlotlyScatterChart().view(pl_view, label_to_view=\"Вселенная\")"
   ]
  },
  {
   "cell_type": "code",
   "execution_count": null,
   "metadata": {},
   "outputs": [],
   "source": [
    "chart"
   ]
  },
  {
   "cell_type": "code",
   "execution_count": 20,
   "metadata": {},
   "outputs": [
    {
     "data": {
      "text/html": [
       "<div><style>\n",
       ".dataframe > thead > tr,\n",
       ".dataframe > tbody > tr {\n",
       "  text-align: right;\n",
       "  white-space: pre-wrap;\n",
       "}\n",
       "</style>\n",
       "<small>shape: (5, 5)</small><table border=\"1\" class=\"dataframe\"><thead><tr><th>text</th><th>topic</th><th>label</th><th>x</th><th>y</th></tr><tr><td>str</td><td>i64</td><td>str</td><td>f64</td><td>f64</td></tr></thead><tbody><tr><td>&quot;В реалисте вер…</td><td>4</td><td>&quot;Братья Карамаз…</td><td>10.780663</td><td>8.398505</td></tr><tr><td>&quot;Жизнь — это ми…</td><td>4</td><td>&quot;Человек в футл…</td><td>10.056022</td><td>6.705342</td></tr><tr><td>&quot;Нет, не так. К…</td><td>4</td><td>&quot;Метро 2033&quot;</td><td>10.17023</td><td>6.336634</td></tr><tr><td>&quot;Станьте солнце…</td><td>4</td><td>&quot;Преступление и…</td><td>10.817473</td><td>6.70468</td></tr><tr><td>&quot;Когда-то он бы…</td><td>4</td><td>&quot;Джон Уик 3&quot;</td><td>9.281586</td><td>12.412477</td></tr></tbody></table></div>"
      ],
      "text/plain": [
       "shape: (5, 5)\n",
       "┌───────────────────────────────────┬───────┬──────────────────────────┬───────────┬───────────┐\n",
       "│ text                              ┆ topic ┆ label                    ┆ x         ┆ y         │\n",
       "│ ---                               ┆ ---   ┆ ---                      ┆ ---       ┆ ---       │\n",
       "│ str                               ┆ i64   ┆ str                      ┆ f64       ┆ f64       │\n",
       "╞═══════════════════════════════════╪═══════╪══════════════════════════╪═══════════╪═══════════╡\n",
       "│ В реалисте вера не от чуда рожда… ┆ 4     ┆ Братья Карамазовы        ┆ 10.780663 ┆ 8.398505  │\n",
       "│ Жизнь — это миг. Ее нельзя прожи… ┆ 4     ┆ Человек в футляре        ┆ 10.056022 ┆ 6.705342  │\n",
       "│ Нет, не так. Когда проживаешь от… ┆ 4     ┆ Метро 2033               ┆ 10.17023  ┆ 6.336634  │\n",
       "│ Станьте солнцем, вас все и увидя… ┆ 4     ┆ Преступление и наказание ┆ 10.817473 ┆ 6.70468   │\n",
       "│ Когда-то он был в нашей команде.… ┆ 4     ┆ Джон Уик 3               ┆ 9.281586  ┆ 12.412477 │\n",
       "└───────────────────────────────────┴───────┴──────────────────────────┴───────────┴───────────┘"
      ]
     },
     "execution_count": 20,
     "metadata": {},
     "output_type": "execute_result"
    }
   ],
   "source": [
    "pl_view.head()"
   ]
  },
  {
   "cell_type": "code",
   "execution_count": null,
   "metadata": {},
   "outputs": [],
   "source": []
  }
 ],
 "metadata": {
  "kernelspec": {
   "display_name": "polaroids",
   "language": "python",
   "name": "python3"
  },
  "language_info": {
   "codemirror_mode": {
    "name": "ipython",
    "version": 3
   },
   "file_extension": ".py",
   "mimetype": "text/x-python",
   "name": "python",
   "nbconvert_exporter": "python",
   "pygments_lexer": "ipython3",
   "version": "3.11.9"
  }
 },
 "nbformat": 4,
 "nbformat_minor": 2
}
