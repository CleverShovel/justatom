{
 "cells": [
  {
   "cell_type": "code",
   "execution_count": null,
   "metadata": {},
   "outputs": [],
   "source": [
    "import os\n",
    "from pathlib import Path\n",
    "from typing import List, Dict, Optional, Union\n",
    "\n",
    "import polars as pl\n",
    "import simplejson as json\n",
    "import numpy as np\n",
    "\n",
    "from plotly.subplots import make_subplots\n",
    "import plotly.graph_objects as go\n",
    "\n",
    "from justatom.configuring.prime import Config\n",
    "from justatom.running.cluster import IBTRunner, IHFWrapperBackend\n",
    "from justatom.modeling.prime import HFDocEmbedder\n",
    "from justatom.clustering.prime import IUMAPDimReducer\n",
    "from justatom.viewing.prime import PlotlyGroupedBarChart\n",
    "\n",
    "# from gir.storing.dataset import INTIDataset\n",
    "\n",
    "from loguru import logger"
   ]
  },
  {
   "cell_type": "code",
   "execution_count": null,
   "metadata": {},
   "outputs": [],
   "source": [
    "def ignite_dataset(where) -> List[Dict]:\n",
    "    docs = None\n",
    "    with open(str(Path(where)), encoding=\"utf-8\") as fin:\n",
    "        docs = json.load(fin)\n",
    "    return docs"
   ]
  },
  {
   "cell_type": "code",
   "execution_count": null,
   "metadata": {},
   "outputs": [],
   "source": [
    "docs = ignite_dataset(where=Path(os.getcwd()) / \".data\" / \"polaroids.ai.data.json\")"
   ]
  },
  {
   "cell_type": "code",
   "execution_count": null,
   "metadata": {},
   "outputs": [],
   "source": [
    "docs_df = pl.from_dicts(docs)"
   ]
  },
  {
   "cell_type": "code",
   "execution_count": null,
   "metadata": {},
   "outputs": [],
   "source": [
    "docs_df.head()"
   ]
  },
  {
   "cell_type": "code",
   "execution_count": null,
   "metadata": {},
   "outputs": [],
   "source": [
    "docs_df = docs_df.filter(pl.col(\"query\").is_not_null())"
   ]
  },
  {
   "cell_type": "code",
   "execution_count": null,
   "metadata": {},
   "outputs": [],
   "source": [
    "docs_df.shape[0]"
   ]
  },
  {
   "cell_type": "code",
   "execution_count": null,
   "metadata": {},
   "outputs": [],
   "source": [
    "docs_df = docs_df.with_columns([\n",
    "    pl.lit(\"x\").alias(\"group\")\n",
    "])"
   ]
  },
  {
   "cell_type": "code",
   "execution_count": null,
   "metadata": {},
   "outputs": [],
   "source": [
    "sample_col_a, sample_col_b = \"query\", \"content\"\n",
    "group_col_a, group_col_b = \"group\", \"title\""
   ]
  },
  {
   "cell_type": "code",
   "execution_count": null,
   "metadata": {},
   "outputs": [],
   "source": [
    "def maybe_cuda_or_mps():\n",
    "    if torch.cuda.is_available():\n",
    "        return \"cuda:0\"\n",
    "    elif torch.has_mps:\n",
    "        return \"mps\"\n",
    "    else:\n",
    "        return \"cpu\""
   ]
  },
  {
   "cell_type": "code",
   "execution_count": null,
   "metadata": {},
   "outputs": [],
   "source": [
    "embedder = HFDocEmbedder(**Config.clustering.embedder.toDict(), device=maybe_cuda_or_mps())\n",
    "transformers_backend = IHFWrapperBackend(embedder, **Config.clustering.transformers_backend.toDict())"
   ]
  },
  {
   "cell_type": "code",
   "execution_count": null,
   "metadata": {},
   "outputs": [],
   "source": [
    "topic_model = IBTRunner(**Config.clustering.bertopic, model=transformers_backend, verbose=True)"
   ]
  },
  {
   "cell_type": "code",
   "execution_count": null,
   "metadata": {},
   "outputs": [],
   "source": [
    "documents_1 = docs_df.select(sample_col_a).to_series().to_list()\n",
    "documents_2 = docs_df.select(sample_col_b).to_series().to_list()"
   ]
  },
  {
   "cell_type": "code",
   "execution_count": null,
   "metadata": {},
   "outputs": [],
   "source": [
    "def dot_score_metric(x: np.ndarray, y: np.ndarray):\n",
    "    return x @ y.T\n",
    "\n",
    "embeddings_1 = list(embedder.encode(documents_1, verbose=True, batch_size=50))\n",
    "embeddings_1 = np.vstack(embeddings_1)\n",
    "\n",
    "embeddings_2 = list(embedder.encode(documents_2, verbose=True, batch_size=50))\n",
    "embeddings_2 = np.vstack(embeddings_2)\n",
    "\n",
    "distances = [dot_score_metric(x, y) for x, y in zip(embeddings_1, embeddings_2)]"
   ]
  },
  {
   "cell_type": "code",
   "execution_count": null,
   "metadata": {},
   "outputs": [],
   "source": [
    "documents_1[0]"
   ]
  },
  {
   "cell_type": "code",
   "execution_count": null,
   "metadata": {},
   "outputs": [],
   "source": [
    "documents_2[0]"
   ]
  },
  {
   "cell_type": "code",
   "execution_count": null,
   "metadata": {},
   "outputs": [],
   "source": [
    "print(sample_col_a)\n",
    "print(sample_col_b)\n",
    "print(\" --- \")\n",
    "print(group_col_a)\n",
    "print(group_col_b)"
   ]
  },
  {
   "cell_type": "code",
   "execution_count": null,
   "metadata": {},
   "outputs": [],
   "source": [
    "print(docs_df.select(pl.col(group_col_a).unique()).shape[0])\n",
    "print(docs_df.select(pl.col(group_col_b).unique()).shape[0])"
   ]
  },
  {
   "cell_type": "code",
   "execution_count": null,
   "metadata": {},
   "outputs": [],
   "source": [
    "def prepare_view(df, group_col_a:str, group_col_b:str):\n",
    "    df_view = pl.DataFrame(schema={group_col_a: str, group_col_b:str}, ).join(df.select(group_col_a, group_col_b), on=[group_col_a, group_col_b], how=\"outer\")\n",
    "    df_view = df_view.with_columns([\n",
    "        pl.col(group_col_a).str.slice(0, 50).alias(f\"short_{group_col_a}\"),\n",
    "        pl.col(group_col_b).str.slice(0, 50).alias(f\"s hort_{group_col_b}\")\n",
    "    ])\n",
    "    return df_view"
   ]
  },
  {
   "cell_type": "code",
   "execution_count": null,
   "metadata": {},
   "outputs": [],
   "source": [
    "df_view = prepare_view(df=docs_df, group_col_a=group_col_a, group_col_b=group_col_b)"
   ]
  },
  {
   "cell_type": "code",
   "execution_count": null,
   "metadata": {},
   "outputs": [],
   "source": [
    "def counts_per_col(df, col):\n",
    "    df_cut = df.with_row_count().with_columns([\n",
    "        pl.count(\"row_nr\").over(col).alias(f\"counts_per_{col}\"),\n",
    "        pl.first(\"row_nr\").over(col).alias(\"mask\")\n",
    "    ]).filter(pl.col(\"mask\") == pl.col(\"row_nr\"))\n",
    "    return df_cut"
   ]
  },
  {
   "cell_type": "code",
   "execution_count": null,
   "metadata": {},
   "outputs": [],
   "source": [
    "df_view.head()"
   ]
  },
  {
   "cell_type": "code",
   "execution_count": null,
   "metadata": {},
   "outputs": [],
   "source": [
    "df_cut_per_group_a = counts_per_col(df=docs_df, col=group_col_a)\n",
    "df_cut_per_group_b = counts_per_col(df=docs_df, col=group_col_b)"
   ]
  },
  {
   "cell_type": "code",
   "execution_count": null,
   "metadata": {},
   "outputs": [],
   "source": [
    "print(df_cut_per_group_a.shape[0])\n",
    "df_cut_per_group_a.head()"
   ]
  },
  {
   "cell_type": "code",
   "execution_count": null,
   "metadata": {},
   "outputs": [],
   "source": [
    "print(df_cut_per_group_b.shape[0])\n",
    "df_cut_per_group_b.head()"
   ]
  },
  {
   "cell_type": "code",
   "execution_count": null,
   "metadata": {},
   "outputs": [],
   "source": [
    "df_view = df_view.with_columns([\n",
    "    pl.Series(distances).alias(\"distance\")\n",
    "])"
   ]
  },
  {
   "cell_type": "code",
   "execution_count": null,
   "metadata": {},
   "outputs": [],
   "source": [
    "len(distances)"
   ]
  },
  {
   "cell_type": "code",
   "execution_count": null,
   "metadata": {},
   "outputs": [],
   "source": [
    "chart = PlotlyGroupedBarChart(group_col_a=group_col_a, group_col_b=group_col_b, distance_col=\"distance\", dist_threshold=0.80)\n",
    "fig = chart.view(df_view)\n",
    "fig.show()"
   ]
  },
  {
   "cell_type": "code",
   "execution_count": null,
   "metadata": {},
   "outputs": [],
   "source": [
    "chart.save(\"comparison.png\")"
   ]
  },
  {
   "cell_type": "code",
   "execution_count": null,
   "metadata": {},
   "outputs": [],
   "source": []
  }
 ],
 "metadata": {
  "kernelspec": {
   "display_name": "polaroidsai",
   "language": "python",
   "name": "python3"
  },
  "language_info": {
   "codemirror_mode": {
    "name": "ipython",
    "version": 3
   },
   "file_extension": ".py",
   "mimetype": "text/x-python",
   "name": "python",
   "nbconvert_exporter": "python",
   "pygments_lexer": "ipython3",
   "version": "3.11.9"
  }
 },
 "nbformat": 4,
 "nbformat_minor": 2
}
