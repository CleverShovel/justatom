{
 "cells": [
  {
   "cell_type": "code",
   "execution_count": 24,
   "metadata": {},
   "outputs": [],
   "source": [
    "from justatom.storing.polars import POLARStore\n",
    "\n",
    "import os\n",
    "from pathlib import Path\n",
    "import polars as pl\n",
    "from typing import Optional, Union, List, Dict\n",
    "from loguru import logger"
   ]
  },
  {
   "cell_type": "code",
   "execution_count": 2,
   "metadata": {},
   "outputs": [],
   "source": [
    "filepath = Path.home() / \"IDataset\" / \"yappi_hackaton_2024_400k.csv\""
   ]
  },
  {
   "cell_type": "code",
   "execution_count": 3,
   "metadata": {},
   "outputs": [],
   "source": [
    "docs_df = pl.read_csv(filepath)"
   ]
  },
  {
   "cell_type": "code",
   "execution_count": 4,
   "metadata": {},
   "outputs": [],
   "source": [
    "docs_df = docs_df.filter(pl.col(\"description\").is_not_null())"
   ]
  },
  {
   "cell_type": "code",
   "execution_count": 5,
   "metadata": {},
   "outputs": [
    {
     "name": "stderr",
     "output_type": "stream",
     "text": [
      "\u001b[32m2024-06-10 04:19:46.449\u001b[0m | \u001b[1mINFO    \u001b[0m | \u001b[36m__main__\u001b[0m:\u001b[36m<module>\u001b[0m:\u001b[36m1\u001b[0m - \u001b[1mThere're total 345081 samples\u001b[0m\n"
     ]
    }
   ],
   "source": [
    "logger.info(f\"There're total {docs_df.shape[0]} samples\")"
   ]
  },
  {
   "cell_type": "code",
   "execution_count": 6,
   "metadata": {},
   "outputs": [],
   "source": [
    "store = POLARStore(df=docs_df)"
   ]
  },
  {
   "cell_type": "code",
   "execution_count": 16,
   "metadata": {},
   "outputs": [],
   "source": [
    "pl_observation = pl.concat(store.random_sample(sample_size=1_000, num_obs=10))"
   ]
  },
  {
   "cell_type": "code",
   "execution_count": 19,
   "metadata": {},
   "outputs": [],
   "source": [
    "stopchars = \"🤫!@#$&*~`,\"\n",
    "column = \"description\""
   ]
  },
  {
   "cell_type": "code",
   "execution_count": 21,
   "metadata": {},
   "outputs": [],
   "source": [
    "pl_counts_per_word = store.count_words_per_col(col=column, stopchars=stopchars)"
   ]
  },
  {
   "cell_type": "code",
   "execution_count": 22,
   "metadata": {},
   "outputs": [],
   "source": [
    "pl_top = pl_counts_per_word.filter(pl.col(\"counts\") >= 1_000)"
   ]
  },
  {
   "cell_type": "code",
   "execution_count": 23,
   "metadata": {},
   "outputs": [
    {
     "data": {
      "text/html": [
       "<div><style>\n",
       ".dataframe > thead > tr,\n",
       ".dataframe > tbody > tr {\n",
       "  text-align: right;\n",
       "  white-space: pre-wrap;\n",
       "}\n",
       "</style>\n",
       "<small>shape: (5, 2)</small><table border=\"1\" class=\"dataframe\"><thead><tr><th>words</th><th>counts</th></tr><tr><td>str</td><td>u32</td></tr></thead><tbody><tr><td>&quot;boobs&quot;</td><td>36802</td></tr><tr><td>&quot;красивыедевушк…</td><td>36064</td></tr><tr><td>&quot;бьютирутина&quot;</td><td>28271</td></tr><tr><td>&quot;наспорте&quot;</td><td>28061</td></tr><tr><td>&quot;спорт&quot;</td><td>27550</td></tr></tbody></table></div>"
      ],
      "text/plain": [
       "shape: (5, 2)\n",
       "┌─────────────────┬────────┐\n",
       "│ words           ┆ counts │\n",
       "│ ---             ┆ ---    │\n",
       "│ str             ┆ u32    │\n",
       "╞═════════════════╪════════╡\n",
       "│ boobs           ┆ 36802  │\n",
       "│ красивыедевушки ┆ 36064  │\n",
       "│ бьютирутина     ┆ 28271  │\n",
       "│ наспорте        ┆ 28061  │\n",
       "│ спорт           ┆ 27550  │\n",
       "└─────────────────┴────────┘"
      ]
     },
     "execution_count": 23,
     "metadata": {},
     "output_type": "execute_result"
    }
   ],
   "source": [
    "pl_top.head()"
   ]
  },
  {
   "cell_type": "code",
   "execution_count": 25,
   "metadata": {},
   "outputs": [],
   "source": [
    "def visualize_as_bar(\n",
    "    arr: List[Dict],\n",
    "    logo_path: Optional[Union[str, Path]] = None,\n",
    "    logo_text: Optional[str] = None,\n",
    "    x_axis_title: str = \"X\",\n",
    "    title: str = None,\n",
    "    y_axis_title: str = \"Y\",\n",
    "    logo_text_size: int = 7):\n",
    "\n",
    "    import plotly.graph_objects as go\n",
    "\n",
    "    title = f\"Distribution {y_axis_title}={y_axis_title}({x_axis_title})\"\n",
    "    \n",
    "    xs = [xi.get(\"name\", \"None\") for xi in arr]\n",
    "    vs = [xi.get(\"value\", 0) for xi in arr]\n",
    "\n",
    "    bar_color = 'rgba(253, 246, 48, 0.4)',\n",
    "    border_color = 'rgba(253, 246, 48, 1)'\n",
    "    text_color = 'rgba(255, 255, 255, 1)'   # Неоново-желтый цвет\n",
    "    grid_color = 'rgba(253, 246, 48, 0.2)' # Неоново-желтый цвет\n",
    "\n",
    "    fig = go.Figure([go.Bar(\n",
    "        x=xs, y=vs,\n",
    "        marker=dict(color=bar_color, line=dict(color=border_color, width=2))\n",
    "        )\n",
    "    ])\n",
    "\n",
    "    fig.update_layout(\n",
    "        title=title,\n",
    "        title_font=dict(size=24, color=text_color),\n",
    "        paper_bgcolor='rgba(0, 0, 0, 1)',\n",
    "        plot_bgcolor='rgba(0, 0, 0, 1)',\n",
    "        xaxis_title=x_axis_title,\n",
    "        yaxis_title=y_axis_title,\n",
    "        xaxis=dict(tickangle=-45, color=text_color, title_font=dict(size=18),\n",
    "                   tickfont=dict(size=10)),\n",
    "        yaxis=dict(color=text_color, title_font=dict(size=18)),\n",
    "        font=dict(family=\"Courier New, monospace\", size=15, color=text_color)\n",
    "    )\n",
    "\n",
    "    # Добавление сетки в стиле киберпанк\n",
    "    fig.update_xaxes(showgrid=True, gridwidth=1, gridcolor=grid_color)\n",
    "    fig.update_yaxes(showgrid=True, gridwidth=1, gridcolor=grid_color)\n",
    "\n",
    "    if logo_path:\n",
    "        import base64\n",
    "        with open(str(logo_path), \"rb\") as image_file:\n",
    "            encoded_image = base64.b64encode(image_file.read()).decode()\n",
    "        \n",
    "        fig.add_layout_image(\n",
    "            dict(\n",
    "                source=\"data:image/png;base64,\" + encoded_image,\n",
    "                xref=\"paper\",\n",
    "                yref=\"paper\",\n",
    "                x=1,\n",
    "                y=1.05,\n",
    "                sizex=0.2,\n",
    "                sizey=0.2,\n",
    "                xanchor=\"right\",\n",
    "                yanchor=\"bottom\"\n",
    "            )\n",
    "        )\n",
    "        if logo_text:\n",
    "            fig.add_annotation(\n",
    "                x=1,\n",
    "                y=1.05,\n",
    "                text=logo_text,\n",
    "                showarrow=False,\n",
    "                xref=\"paper\", yref=\"paper\",\n",
    "                xanchor=\"right\",\n",
    "                yanchor=\"top\",\n",
    "                font=dict(size=logo_text_size, color=\"yellow\")\n",
    "            )\n",
    "\n",
    "    return fig"
   ]
  },
  {
   "cell_type": "code",
   "execution_count": 28,
   "metadata": {},
   "outputs": [],
   "source": [
    "xs, ys = pl_top.select(\"words\").to_series().to_list(), pl_top.select(\"counts\").to_series().to_list()"
   ]
  },
  {
   "cell_type": "code",
   "execution_count": 29,
   "metadata": {},
   "outputs": [],
   "source": [
    "fig = visualize_as_bar(arr=[{\"name\": xi, \"value\": yi} for xi, yi in zip(xs, ys)], x_axis_title=\"Word\", y_axis_title=\"СOUNT\", logo_path=Path(os.getcwd()) / \".data\" / \"polaroids.ai.logo.png\", logo_text=\"Powered by polaroids.ai\")"
   ]
  },
  {
   "cell_type": "code",
   "execution_count": 31,
   "metadata": {},
   "outputs": [],
   "source": [
    "width, height, dpi = None, None, 360\n",
    "fig.write_image(\"counts(word)_curve.png\", format='png', width=width, height=height, scale=dpi/72, engine='kaleido')"
   ]
  },
  {
   "cell_type": "code",
   "execution_count": null,
   "metadata": {},
   "outputs": [],
   "source": []
  }
 ],
 "metadata": {
  "kernelspec": {
   "display_name": "polaroids",
   "language": "python",
   "name": "python3"
  },
  "language_info": {
   "codemirror_mode": {
    "name": "ipython",
    "version": 3
   },
   "file_extension": ".py",
   "mimetype": "text/x-python",
   "name": "python",
   "nbconvert_exporter": "python",
   "pygments_lexer": "ipython3",
   "version": "3.11.5"
  }
 },
 "nbformat": 4,
 "nbformat_minor": 2
}
